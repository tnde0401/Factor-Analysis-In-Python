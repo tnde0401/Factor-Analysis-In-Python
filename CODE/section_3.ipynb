{
  "nbformat": 4,
  "nbformat_minor": 0,
  "metadata": {
    "colab": {
      "provenance": []
    },
    "kernelspec": {
      "name": "python3",
      "display_name": "Python 3"
    },
    "language_info": {
      "name": "python"
    }
  },
  "cells": [
    {
      "cell_type": "code",
      "source": [
        "!pip install factor-analyzer pandas"
      ],
      "metadata": {
        "colab": {
          "base_uri": "https://localhost:8080/"
        },
        "id": "J3dJhWyf_Poz",
        "outputId": "87f33177-8a00-40a5-860b-138d9da97cb0"
      },
      "execution_count": 1,
      "outputs": [
        {
          "output_type": "stream",
          "name": "stdout",
          "text": [
            "Collecting factor-analyzer\n",
            "  Downloading factor_analyzer-0.5.1.tar.gz (42 kB)\n",
            "\u001b[?25l     \u001b[90m━━━━━━━━━━━━━━━━━━━━━━━━━━━━━━━━━━━━━━━━\u001b[0m \u001b[32m0.0/42.8 kB\u001b[0m \u001b[31m?\u001b[0m eta \u001b[36m-:--:--\u001b[0m\r\u001b[2K     \u001b[90m━━━━━━━━━━━━━━━━━━━━━━━━━━━━━━━━━━━━━━━━\u001b[0m \u001b[32m42.8/42.8 kB\u001b[0m \u001b[31m1.1 MB/s\u001b[0m eta \u001b[36m0:00:00\u001b[0m\n",
            "\u001b[?25h  Installing build dependencies ... \u001b[?25l\u001b[?25hdone\n",
            "  Getting requirements to build wheel ... \u001b[?25l\u001b[?25hdone\n",
            "  Installing backend dependencies ... \u001b[?25l\u001b[?25hdone\n",
            "  Preparing metadata (pyproject.toml) ... \u001b[?25l\u001b[?25hdone\n",
            "Requirement already satisfied: pandas in /usr/local/lib/python3.10/dist-packages (2.0.3)\n",
            "Requirement already satisfied: scipy in /usr/local/lib/python3.10/dist-packages (from factor-analyzer) (1.11.4)\n",
            "Requirement already satisfied: numpy in /usr/local/lib/python3.10/dist-packages (from factor-analyzer) (1.25.2)\n",
            "Requirement already satisfied: scikit-learn in /usr/local/lib/python3.10/dist-packages (from factor-analyzer) (1.2.2)\n",
            "Requirement already satisfied: python-dateutil>=2.8.2 in /usr/local/lib/python3.10/dist-packages (from pandas) (2.8.2)\n",
            "Requirement already satisfied: pytz>=2020.1 in /usr/local/lib/python3.10/dist-packages (from pandas) (2023.4)\n",
            "Requirement already satisfied: tzdata>=2022.1 in /usr/local/lib/python3.10/dist-packages (from pandas) (2024.1)\n",
            "Requirement already satisfied: six>=1.5 in /usr/local/lib/python3.10/dist-packages (from python-dateutil>=2.8.2->pandas) (1.16.0)\n",
            "Requirement already satisfied: joblib>=1.1.1 in /usr/local/lib/python3.10/dist-packages (from scikit-learn->factor-analyzer) (1.4.2)\n",
            "Requirement already satisfied: threadpoolctl>=2.0.0 in /usr/local/lib/python3.10/dist-packages (from scikit-learn->factor-analyzer) (3.5.0)\n",
            "Building wheels for collected packages: factor-analyzer\n",
            "  Building wheel for factor-analyzer (pyproject.toml) ... \u001b[?25l\u001b[?25hdone\n",
            "  Created wheel for factor-analyzer: filename=factor_analyzer-0.5.1-py2.py3-none-any.whl size=42564 sha256=48fdfbdf732774b63c952479d31311567e8a4aff726b59bb2ae449149ada9495\n",
            "  Stored in directory: /root/.cache/pip/wheels/24/59/82/6493618e30ed1cb7a013b9e1b0c9e17de80b04dfcef4ba8a4d\n",
            "Successfully built factor-analyzer\n",
            "Installing collected packages: factor-analyzer\n",
            "Successfully installed factor-analyzer-0.5.1\n"
          ]
        }
      ]
    },
    {
      "cell_type": "code",
      "execution_count": 5,
      "metadata": {
        "colab": {
          "base_uri": "https://localhost:8080/"
        },
        "id": "lYu0nTT5-xOB",
        "outputId": "e1107e86-04b1-49ac-8844-a3d928a845fb"
      },
      "outputs": [
        {
          "output_type": "stream",
          "name": "stdout",
          "text": [
            "Eigenvalues: [3.20788406 1.21888092 1.10461342 0.92433502 0.86004479 0.57763963\n",
            " 0.48214885 0.33014925 0.29430406]\n",
            "Factor Loadings:\n",
            "          Factor 1  Factor 2  Factor 3\n",
            "climate   0.019992  0.204546  0.880499\n",
            "housing   0.449567  0.538528  0.141022\n",
            "health    0.819069  0.087685  0.125595\n",
            "crime     0.014132  0.697724  0.205143\n",
            "trans     0.653395  0.297190 -0.031296\n",
            "educate   0.714001 -0.086628 -0.096725\n",
            "arts      0.716198  0.430690  0.129633\n",
            "recreate  0.316055  0.638966  0.080090\n",
            "econ     -0.037389  0.666500 -0.509986\n",
            "Communalities: [0.81751791 0.51201084 0.6943371  0.52910188 0.51622613 0.5266573\n",
            " 0.71523884 0.51458278 0.70570563]\n",
            "Total Communality: 5.531378398555718\n"
          ]
        }
      ],
      "source": [
        "import numpy as np\n",
        "import pandas as pd\n",
        "from factor_analyzer import FactorAnalyzer\n",
        "\n",
        "# Đọc dữ liệu\n",
        "data_path = '/content/places_tf.csv'\n",
        "data = pd.read_csv(data_path)\n",
        "\n",
        "# Chuyển đổi các cột bằng log10, trừ cột 'id'\n",
        "transformed_columns = data.columns[:-1]\n",
        "data[transformed_columns] = data[transformed_columns].applymap(lambda x: np.log10(x))\n",
        "\n",
        "# Chọn các biến để phân tích\n",
        "variables = data.columns[:-1]\n",
        "X = data[variables]\n",
        "\n",
        "# Số lượng nhân tố cần trích xuất\n",
        "m = 3\n",
        "\n",
        "# Tạo và fit model với phương pháp MLE\n",
        "fa = FactorAnalyzer(n_factors=m, method='principal', rotation='varimax')\n",
        "fa.fit(X)\n",
        "\n",
        "# Kiểm tra eigenvalues\n",
        "eigenvalues, _ = fa.get_eigenvalues()\n",
        "print(\"Eigenvalues:\", eigenvalues)\n",
        "\n",
        "# Lấy factor loadings\n",
        "factor_loadings = fa.loadings_\n",
        "\n",
        "# Hiển thị kết quả dưới dạng bảng\n",
        "factor_loadings_df = pd.DataFrame(factor_loadings, index=variables, columns=[f\"Factor {i+1}\" for i in range(m)])\n",
        "print(\"Factor Loadings:\")\n",
        "print(factor_loadings_df)\n",
        "\n",
        "# Tính communalities\n",
        "communalities = np.sum(factor_loadings**2, axis=1)\n",
        "total_communality = np.sum(communalities)\n",
        "print(\"Communalities:\", communalities)\n",
        "print(\"Total Communality:\", total_communality)"
      ]
    },
    {
      "cell_type": "markdown",
      "source": [
        "Thử với rotation promax"
      ],
      "metadata": {
        "id": "dyUiBQsd_f48"
      }
    },
    {
      "cell_type": "code",
      "source": [
        "import numpy as np\n",
        "import pandas as pd\n",
        "from factor_analyzer import FactorAnalyzer\n",
        "\n",
        "# Đọc dữ liệu\n",
        "data_path = '/content/places_tf.csv'\n",
        "data = pd.read_csv(data_path)\n",
        "\n",
        "# Chuyển đổi các cột bằng log10, trừ cột 'id'\n",
        "transformed_columns = data.columns[:-1]\n",
        "data[transformed_columns] = data[transformed_columns].applymap(lambda x: np.log10(x))\n",
        "\n",
        "# Chọn các biến để phân tích\n",
        "variables = data.columns[:-1]\n",
        "X = data[variables]\n",
        "\n",
        "# Số lượng nhân tố cần trích xuất\n",
        "m = 3\n",
        "\n",
        "# Tạo và fit model với phương pháp MLE\n",
        "fa = FactorAnalyzer(n_factors=m, method='principal', rotation='promax')\n",
        "fa.fit(X)\n",
        "\n",
        "# Kiểm tra eigenvalues\n",
        "eigenvalues, _ = fa.get_eigenvalues()\n",
        "print(\"Eigenvalues:\", eigenvalues)\n",
        "\n",
        "# Lấy factor loadings\n",
        "factor_loadings = fa.loadings_\n",
        "\n",
        "# Hiển thị kết quả dưới dạng bảng\n",
        "factor_loadings_df = pd.DataFrame(factor_loadings, index=variables, columns=[f\"Factor {i+1}\" for i in range(m)])\n",
        "print(\"Factor Loadings:\")\n",
        "print(factor_loadings_df)\n",
        "\n",
        "# Tính communalities\n",
        "communalities = np.sum(factor_loadings**2, axis=1)\n",
        "total_communality = np.sum(communalities)\n",
        "print(\"Communalities:\", communalities)\n",
        "print(\"Total Communality:\", total_communality)"
      ],
      "metadata": {
        "colab": {
          "base_uri": "https://localhost:8080/"
        },
        "id": "-Pws6U-d_ke_",
        "outputId": "4285b192-95f6-44b4-abda-f18e9c4d5145"
      },
      "execution_count": 4,
      "outputs": [
        {
          "output_type": "stream",
          "name": "stdout",
          "text": [
            "Eigenvalues: [3.20788406 1.21888092 1.10461342 0.92433502 0.86004479 0.57763963\n",
            " 0.48214885 0.33014925 0.29430406]\n",
            "Factor Loadings:\n",
            "          Factor 1  Factor 2  Factor 3\n",
            "climate  -0.111802  0.177229  0.886895\n",
            "housing   0.335722  0.483764  0.101088\n",
            "health    0.844766 -0.074343  0.074330\n",
            "crime    -0.176524  0.738990  0.188997\n",
            "trans     0.630091  0.191056 -0.080092\n",
            "educate   0.796062 -0.231180 -0.140181\n",
            "arts      0.649328  0.315103  0.075816\n",
            "recreate  0.173471  0.621141  0.044906\n",
            "econ     -0.156888  0.747258 -0.532674\n",
            "Communalities: [0.83049212 0.35695593 0.72468097 0.61298705 0.43993139 0.70680889\n",
            " 0.5266645  0.41792475 0.86674973]\n",
            "Total Communality: 5.483195331090017\n"
          ]
        }
      ]
    }
  ]
}